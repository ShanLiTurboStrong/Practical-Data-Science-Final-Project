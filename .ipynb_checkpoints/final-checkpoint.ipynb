{
 "cells": [
  {
   "cell_type": "code",
   "execution_count": 1,
   "metadata": {
    "collapsed": true
   },
   "outputs": [],
   "source": [
    "# setup library imports\n",
    "import io, time, json\n",
    "import requests\n",
    "import pickle\n",
    "import csv\n",
    "import re\n",
    "from bs4 import BeautifulSoup"
   ]
  },
  {
   "cell_type": "code",
   "execution_count": 3,
   "metadata": {
    "collapsed": true
   },
   "outputs": [],
   "source": [
    "def read_api_key(filepath):\n",
    "    with open(filepath, 'r') as f:\n",
    "        api_key = f.read().replace('\\n','')\n",
    "    return api_key"
   ]
  },
  {
   "cell_type": "code",
   "execution_count": 4,
   "metadata": {
    "collapsed": true
   },
   "outputs": [],
   "source": [
    "def check_restaurant_before_2015(url):\n",
    "    \"\"\"\n",
    "    Check whether or not the restaurant established before 2015.\n",
    "\n",
    "    Parameters:\n",
    "        url (string): Yelp URL corresponding to the restaurant of interest.\n",
    "\n",
    "    Returns:\n",
    "        (boolean): whether or not the restaurant established before 2015.\n",
    "    \"\"\"\n",
    "    url += \"&sort_by=date_asc\"\n",
    "    html = requests.get(url).content\n",
    "    url=None\n",
    "    while True:\n",
    "        soup = BeautifulSoup(html, 'html.parser')\n",
    "        for div in soup.find_all(\"div\", class_=\"review review--with-sidebar\"):\n",
    "            tmp = re.search(\"[0-9]*/[0-9]*/[0-9]*\", div.find(\"span\", class_='rating-qualifier').get_text())\n",
    "            if tmp is not None:\n",
    "                tmp = tmp.group(0).rstrip()\n",
    "                tmp = (tmp[tmp.rfind('/') + 1:])\n",
    "                try:\n",
    "                    if int(tmp) <= 2015:\n",
    "                        return True\n",
    "                    return False\n",
    "                except:\n",
    "                    continue\n",
    "        url=soup.find(\"a\", class_=\"u-decoration-none next pagination-links_anchor\")\n",
    "        if url is not None:\n",
    "            url=url['href']\n",
    "            html=requests.get(url).content\n",
    "        else:\n",
    "            break\n",
    "    return False"
   ]
  },
  {
   "cell_type": "code",
   "execution_count": 5,
   "metadata": {
    "collapsed": true
   },
   "outputs": [],
   "source": [
    "# res = check_restaurant_before_2015(\"https://www.yelp.com/biz/the-porch-at-schenley-pittsburgh\")"
   ]
  },
  {
   "cell_type": "code",
   "execution_count": 6,
   "metadata": {
    "collapsed": true
   },
   "outputs": [],
   "source": [
    "def all_restaurants(api_key, zip_code):\n",
    "    # find restaurants established before 2015 according to zip_code\n",
    "    # zip_code: str\n",
    "    offset = 0\n",
    "    headers = {\n",
    "        \"authorization\": 'Bearer %s' % api_key, # for yelp API\n",
    "    }\n",
    "    total_num = 1\n",
    "    dic_list = []\n",
    "    while offset < total_num:\n",
    "        params = {\n",
    "            \"location\": zip_code,\n",
    "            \"categories\": \"restaurant\",\n",
    "            \"offset\": offset,\n",
    "            \"limit\": 50,\n",
    "            \"sort_by\": \"review_count\",\n",
    "        }\n",
    "        result = requests.get('https://api.yelp.com/v3/businesses/search', headers= headers, params=params).json()\n",
    "        if 'businesses' not in result:\n",
    "            break\n",
    "        dic_list += result['businesses']\n",
    "        total_num = result['total']\n",
    "        offset += 50\n",
    "        time.sleep(0.2)\n",
    "    return dic_list\n"
   ]
  },
  {
   "cell_type": "code",
   "execution_count": 7,
   "metadata": {
    "collapsed": true
   },
   "outputs": [],
   "source": [
    "# %load_ext line_profiler"
   ]
  },
  {
   "cell_type": "code",
   "execution_count": 8,
   "metadata": {
    "collapsed": true
   },
   "outputs": [],
   "source": [
    "\n",
    "# data = all_restaurants(read_api_key('/Users/Lena/api/yelp_api_key.txt'), '15213')\n",
    "# print(len(data))"
   ]
  },
  {
   "cell_type": "code",
   "execution_count": 9,
   "metadata": {
    "collapsed": true
   },
   "outputs": [],
   "source": [
    "\n",
    "\n",
    "# %lprun -f all_restaurants all_restaurants(read_api_key('/Users/Lena/api/yelp_api_key.txt'), '15213')\n",
    "\n"
   ]
  },
  {
   "cell_type": "code",
   "execution_count": 15,
   "metadata": {
    "collapsed": true
   },
   "outputs": [],
   "source": [
    "def get_data_from_yelp(zipcode):\n",
    "    data = all_restaurants(read_api_key('api_key.txt'), zipcode)\n",
    "    \n",
    "    res = []\n",
    "    for data_i in data:\n",
    "        if 'name' not in data_i \\\n",
    "        or 'rating' not in data_i \\\n",
    "        or 'review_count' not in data_i \\\n",
    "        or 'price' not in data_i \\\n",
    "        or 'transactions' not in data_i:\n",
    "            continue\n",
    "\n",
    "        cur_list = [zipcode, data_i['name'], data_i['rating'], data_i['review_count'], data_i['price'], str(data_i['transactions'])]\n",
    "#         print(cur_list)\n",
    "        res.append(cur_list)\n",
    "    print(\"final length is: \", len(res))\n",
    "    return res"
   ]
  },
  {
   "cell_type": "code",
   "execution_count": 21,
   "metadata": {
    "collapsed": true
   },
   "outputs": [],
   "source": [
    "import csv, sqlite3\n",
    "\n",
    "con = sqlite3.connect(\"yelp.db\")\n",
    "cur = con.cursor()\n",
    "# cur.execute(\"CREATE TABLE yelp (zipcode TEXT,name TEXT,rating REAL,review_count INT,price TEXT,transactions TEXT)\")\n",
    "\n",
    "with open(\"zipcode.txt\") as f: \n",
    "    zipcode = f.read().splitlines()\n",
    "for i, zc in enumerate(zipcode):\n",
    "    if i <= 458:\n",
    "        continue\n",
    "    print(i)\n",
    "    print(zc)\n",
    "    res = get_data_from_yelp(zc)\n",
    "\n",
    "    cur.executemany(\"INSERT INTO yelp (zipcode,name,rating,review_count,price,transactions) VALUES (?, ?, ?, ?, ?, ?);\", res)\n",
    "    con.commit()\n",
    "con.close()\n"
   ]
  },
  {
   "cell_type": "markdown",
   "metadata": {},
   "source": [
    "---"
   ]
  },
  {
   "cell_type": "code",
   "execution_count": null,
   "metadata": {
    "collapsed": true
   },
   "outputs": [],
   "source": []
  }
 ],
 "metadata": {
  "anaconda-cloud": {},
  "kernelspec": {
   "display_name": "Python 3",
   "language": "python",
   "name": "python3"
  },
  "language_info": {
   "codemirror_mode": {
    "name": "ipython",
    "version": 3
   },
   "file_extension": ".py",
   "mimetype": "text/x-python",
   "name": "python",
   "nbconvert_exporter": "python",
   "pygments_lexer": "ipython3",
   "version": "3.6.3"
  }
 },
 "nbformat": 4,
 "nbformat_minor": 1
}
