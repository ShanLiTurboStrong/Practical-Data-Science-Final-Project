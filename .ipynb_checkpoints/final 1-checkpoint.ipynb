{
 "cells": [
  {
   "cell_type": "code",
   "execution_count": 24,
   "metadata": {
    "collapsed": true
   },
   "outputs": [],
   "source": [
    "# setup library imports\n",
    "import io, time, json\n",
    "import requests\n",
    "import pickle\n",
    "import csv\n",
    "import re\n",
    "from bs4 import BeautifulSoup"
   ]
  },
  {
   "cell_type": "markdown",
   "metadata": {},
   "source": [
    "### Library Documentation\n",
    "\n",
    "* Standard Library: \n",
    "    * [io](https://docs.python.org/2/library/io.html)\n",
    "    * [time](https://docs.python.org/2/library/time.html)\n",
    "    * [json](https://docs.python.org/2/library/json.html)\n",
    "\n",
    "* Third Party\n",
    "    * [requests](http://docs.python-requests.org/en/master/)\n",
    "    * [Beautiful Soup (version 4)](https://www.crummy.com/software/BeautifulSoup/bs4/doc/)\n",
    "    * [yelp-fusion](https://www.yelp.com/developers/documentation/v3/get_started)"
   ]
  },
  {
   "cell_type": "code",
   "execution_count": 20,
   "metadata": {
    "collapsed": true
   },
   "outputs": [],
   "source": [
    "def retrieve_html(url):\n",
    "    # Write solution here\n",
    "    response = requests.get(url)\n",
    "    return response.status_code, response.text\n"
   ]
  },
  {
   "cell_type": "code",
   "execution_count": 21,
   "metadata": {
    "collapsed": true
   },
   "outputs": [],
   "source": [
    "def read_api_key(filepath):\n",
    "    with open(filepath, 'r') as f:\n",
    "        api_key = f.read().replace('\\n','')\n",
    "    return api_key"
   ]
  },
  {
   "cell_type": "code",
   "execution_count": 22,
   "metadata": {
    "collapsed": true
   },
   "outputs": [],
   "source": [
    "def check_restaurant_before_2015(url):\n",
    "    \"\"\"\n",
    "    Check whether or not the restaurant established before 2015.\n",
    "\n",
    "    Parameters:\n",
    "        url (string): Yelp URL corresponding to the restaurant of interest.\n",
    "\n",
    "    Returns:\n",
    "        (boolean): whether or not the restaurant established before 2015.\n",
    "    \"\"\"\n",
    "    url += \"&sort_by=date_asc\"\n",
    "    html = requests.get(url).content\n",
    "    url=None\n",
    "    while True:\n",
    "        soup = BeautifulSoup(html, 'html.parser')\n",
    "        for div in soup.find_all(\"div\", class_=\"review review--with-sidebar\"):\n",
    "            tmp = re.search(\"[0-9]*/[0-9]*/[0-9]*\", div.find(\"span\", class_='rating-qualifier').get_text())\n",
    "            if tmp is not None:\n",
    "                tmp = tmp.group(0).rstrip()\n",
    "                tmp = (tmp[tmp.rfind('/') + 1:])\n",
    "                try:\n",
    "                    if int(tmp) <= 2015:\n",
    "                        return True\n",
    "                    return False\n",
    "                except:\n",
    "                    continue\n",
    "        url=soup.find(\"a\", class_=\"u-decoration-none next pagination-links_anchor\")\n",
    "        if url is not None:\n",
    "            url=url['href']\n",
    "            html=requests.get(url).content\n",
    "        else:\n",
    "            break\n",
    "    return False"
   ]
  },
  {
   "cell_type": "code",
   "execution_count": 6,
   "metadata": {
    "collapsed": true
   },
   "outputs": [],
   "source": [
    "# res = check_restaurant_before_2015(\"https://www.yelp.com/biz/the-porch-at-schenley-pittsburgh\")"
   ]
  },
  {
   "cell_type": "code",
   "execution_count": 32,
   "metadata": {
    "collapsed": true
   },
   "outputs": [],
   "source": [
    "def all_restaurants(api_key, zip_code):\n",
    "    # find restaurants established before 2015 according to zip_code\n",
    "    # zip_code: str\n",
    "    offset = 0\n",
    "    headers = {\n",
    "        \"authorization\": 'Bearer %s' % api_key, # for yelp API\n",
    "    }\n",
    "    total_num = 1\n",
    "    dic_list = []\n",
    "    while offset < total_num:\n",
    "        params = {\n",
    "            \"location\": zip_code,\n",
    "            \"categories\": \"restaurant\",\n",
    "            \"offset\": offset,\n",
    "            \"limit\": 50,\n",
    "            \"sort_by\": \"review_count\",\n",
    "        }\n",
    "        result = requests.get('https://api.yelp.com/v3/businesses/search', headers= headers, params=params).json()\n",
    "        if 'businesses' not in result:\n",
    "            break\n",
    "        dic_list += result['businesses']\n",
    "        total_num = result['total']\n",
    "        offset += 50\n",
    "        time.sleep(0.2)\n",
    "    return dic_list\n"
   ]
  },
  {
   "cell_type": "code",
   "execution_count": 18,
   "metadata": {
    "collapsed": true
   },
   "outputs": [],
   "source": [
    "%load_ext line_profiler"
   ]
  },
  {
   "cell_type": "code",
   "execution_count": 33,
   "metadata": {},
   "outputs": [
    {
     "name": "stdout",
     "output_type": "stream",
     "text": [
      "1000\n"
     ]
    }
   ],
   "source": [
    "\n",
    "data = all_restaurants(read_api_key('/Users/Lena/api/yelp_api_key.txt'), '15213')\n",
    "print(len(data))"
   ]
  },
  {
   "cell_type": "code",
   "execution_count": 30,
   "metadata": {
    "collapsed": true
   },
   "outputs": [],
   "source": [
    "\n",
    "\n",
    "%lprun -f all_restaurants all_restaurants(read_api_key('/Users/Lena/api/yelp_api_key.txt'), '15213')\n",
    "\n"
   ]
  },
  {
   "cell_type": "code",
   "execution_count": 47,
   "metadata": {},
   "outputs": [
    {
     "name": "stdout",
     "output_type": "stream",
     "text": [
      "0\n",
      "01085\n",
      "final length is:  95\n",
      "1\n",
      "01201\n"
     ]
    },
    {
     "ename": "KeyboardInterrupt",
     "evalue": "",
     "output_type": "error",
     "traceback": [
      "\u001b[0;31m---------------------------------------------------------------------------\u001b[0m",
      "\u001b[0;31mTypeError\u001b[0m                                 Traceback (most recent call last)",
      "\u001b[0;32m~/torchenv/lib/python3.6/site-packages/urllib3/connectionpool.py\u001b[0m in \u001b[0;36m_make_request\u001b[0;34m(self, conn, method, url, timeout, chunked, **httplib_request_kw)\u001b[0m\n\u001b[1;32m    379\u001b[0m             \u001b[0;32mtry\u001b[0m\u001b[0;34m:\u001b[0m  \u001b[0;31m# Python 2.7, use buffering of HTTP responses\u001b[0m\u001b[0;34m\u001b[0m\u001b[0m\n\u001b[0;32m--> 380\u001b[0;31m                 \u001b[0mhttplib_response\u001b[0m \u001b[0;34m=\u001b[0m \u001b[0mconn\u001b[0m\u001b[0;34m.\u001b[0m\u001b[0mgetresponse\u001b[0m\u001b[0;34m(\u001b[0m\u001b[0mbuffering\u001b[0m\u001b[0;34m=\u001b[0m\u001b[0;32mTrue\u001b[0m\u001b[0;34m)\u001b[0m\u001b[0;34m\u001b[0m\u001b[0m\n\u001b[0m\u001b[1;32m    381\u001b[0m             \u001b[0;32mexcept\u001b[0m \u001b[0mTypeError\u001b[0m\u001b[0;34m:\u001b[0m  \u001b[0;31m# Python 2.6 and older, Python 3\u001b[0m\u001b[0;34m\u001b[0m\u001b[0m\n",
      "\u001b[0;31mTypeError\u001b[0m: getresponse() got an unexpected keyword argument 'buffering'",
      "\nDuring handling of the above exception, another exception occurred:\n",
      "\u001b[0;31mKeyboardInterrupt\u001b[0m                         Traceback (most recent call last)",
      "\u001b[0;32m<ipython-input-47-71094d00e0c5>\u001b[0m in \u001b[0;36m<module>\u001b[0;34m()\u001b[0m\n\u001b[1;32m     10\u001b[0m     \u001b[0mprint\u001b[0m\u001b[0;34m(\u001b[0m\u001b[0mi\u001b[0m\u001b[0;34m)\u001b[0m\u001b[0;34m\u001b[0m\u001b[0m\n\u001b[1;32m     11\u001b[0m     \u001b[0mprint\u001b[0m\u001b[0;34m(\u001b[0m\u001b[0mzc\u001b[0m\u001b[0;34m)\u001b[0m\u001b[0;34m\u001b[0m\u001b[0m\n\u001b[0;32m---> 12\u001b[0;31m     \u001b[0mres\u001b[0m \u001b[0;34m=\u001b[0m \u001b[0mget_data_from_yelp\u001b[0m\u001b[0;34m(\u001b[0m\u001b[0mzc\u001b[0m\u001b[0;34m)\u001b[0m\u001b[0;34m\u001b[0m\u001b[0m\n\u001b[0m\u001b[1;32m     13\u001b[0m \u001b[0;34m\u001b[0m\u001b[0m\n\u001b[1;32m     14\u001b[0m     \u001b[0mcur\u001b[0m\u001b[0;34m.\u001b[0m\u001b[0mexecutemany\u001b[0m\u001b[0;34m(\u001b[0m\u001b[0;34m\"INSERT INTO yelp (zipcode,name,rating,review_count,price,transactions) VALUES (?, ?, ?, ?, ?, ?);\"\u001b[0m\u001b[0;34m,\u001b[0m \u001b[0mres\u001b[0m\u001b[0;34m)\u001b[0m\u001b[0;34m\u001b[0m\u001b[0m\n",
      "\u001b[0;32m<ipython-input-44-d03b128a5cd7>\u001b[0m in \u001b[0;36mget_data_from_yelp\u001b[0;34m(zipcode)\u001b[0m\n\u001b[1;32m      1\u001b[0m \u001b[0;32mdef\u001b[0m \u001b[0mget_data_from_yelp\u001b[0m\u001b[0;34m(\u001b[0m\u001b[0mzipcode\u001b[0m\u001b[0;34m)\u001b[0m\u001b[0;34m:\u001b[0m\u001b[0;34m\u001b[0m\u001b[0m\n\u001b[0;32m----> 2\u001b[0;31m     \u001b[0mdata\u001b[0m \u001b[0;34m=\u001b[0m \u001b[0mall_restaurants\u001b[0m\u001b[0;34m(\u001b[0m\u001b[0mread_api_key\u001b[0m\u001b[0;34m(\u001b[0m\u001b[0;34m'/Users/Lena/api/yelp_api_key.txt'\u001b[0m\u001b[0;34m)\u001b[0m\u001b[0;34m,\u001b[0m \u001b[0mzipcode\u001b[0m\u001b[0;34m)\u001b[0m\u001b[0;34m\u001b[0m\u001b[0m\n\u001b[0m\u001b[1;32m      3\u001b[0m \u001b[0;34m\u001b[0m\u001b[0m\n\u001b[1;32m      4\u001b[0m     \u001b[0mres\u001b[0m \u001b[0;34m=\u001b[0m \u001b[0;34m[\u001b[0m\u001b[0;34m]\u001b[0m\u001b[0;34m\u001b[0m\u001b[0m\n\u001b[1;32m      5\u001b[0m     \u001b[0;32mfor\u001b[0m \u001b[0mdata_i\u001b[0m \u001b[0;32min\u001b[0m \u001b[0mdata\u001b[0m\u001b[0;34m:\u001b[0m\u001b[0;34m\u001b[0m\u001b[0m\n",
      "\u001b[0;32m<ipython-input-32-7f2b3a2a389e>\u001b[0m in \u001b[0;36mall_restaurants\u001b[0;34m(api_key, zip_code)\u001b[0m\n\u001b[1;32m     16\u001b[0m             \u001b[0;34m\"sort_by\"\u001b[0m\u001b[0;34m:\u001b[0m \u001b[0;34m\"review_count\"\u001b[0m\u001b[0;34m,\u001b[0m\u001b[0;34m\u001b[0m\u001b[0m\n\u001b[1;32m     17\u001b[0m         }\n\u001b[0;32m---> 18\u001b[0;31m         \u001b[0mresult\u001b[0m \u001b[0;34m=\u001b[0m \u001b[0mrequests\u001b[0m\u001b[0;34m.\u001b[0m\u001b[0mget\u001b[0m\u001b[0;34m(\u001b[0m\u001b[0;34m'https://api.yelp.com/v3/businesses/search'\u001b[0m\u001b[0;34m,\u001b[0m \u001b[0mheaders\u001b[0m\u001b[0;34m=\u001b[0m \u001b[0mheaders\u001b[0m\u001b[0;34m,\u001b[0m \u001b[0mparams\u001b[0m\u001b[0;34m=\u001b[0m\u001b[0mparams\u001b[0m\u001b[0;34m)\u001b[0m\u001b[0;34m.\u001b[0m\u001b[0mjson\u001b[0m\u001b[0;34m(\u001b[0m\u001b[0;34m)\u001b[0m\u001b[0;34m\u001b[0m\u001b[0m\n\u001b[0m\u001b[1;32m     19\u001b[0m         \u001b[0;32mif\u001b[0m \u001b[0;34m'businesses'\u001b[0m \u001b[0;32mnot\u001b[0m \u001b[0;32min\u001b[0m \u001b[0mresult\u001b[0m\u001b[0;34m:\u001b[0m\u001b[0;34m\u001b[0m\u001b[0m\n\u001b[1;32m     20\u001b[0m             \u001b[0;32mbreak\u001b[0m\u001b[0;34m\u001b[0m\u001b[0m\n",
      "\u001b[0;32m~/torchenv/lib/python3.6/site-packages/requests/api.py\u001b[0m in \u001b[0;36mget\u001b[0;34m(url, params, **kwargs)\u001b[0m\n\u001b[1;32m     70\u001b[0m \u001b[0;34m\u001b[0m\u001b[0m\n\u001b[1;32m     71\u001b[0m     \u001b[0mkwargs\u001b[0m\u001b[0;34m.\u001b[0m\u001b[0msetdefault\u001b[0m\u001b[0;34m(\u001b[0m\u001b[0;34m'allow_redirects'\u001b[0m\u001b[0;34m,\u001b[0m \u001b[0;32mTrue\u001b[0m\u001b[0;34m)\u001b[0m\u001b[0;34m\u001b[0m\u001b[0m\n\u001b[0;32m---> 72\u001b[0;31m     \u001b[0;32mreturn\u001b[0m \u001b[0mrequest\u001b[0m\u001b[0;34m(\u001b[0m\u001b[0;34m'get'\u001b[0m\u001b[0;34m,\u001b[0m \u001b[0murl\u001b[0m\u001b[0;34m,\u001b[0m \u001b[0mparams\u001b[0m\u001b[0;34m=\u001b[0m\u001b[0mparams\u001b[0m\u001b[0;34m,\u001b[0m \u001b[0;34m**\u001b[0m\u001b[0mkwargs\u001b[0m\u001b[0;34m)\u001b[0m\u001b[0;34m\u001b[0m\u001b[0m\n\u001b[0m\u001b[1;32m     73\u001b[0m \u001b[0;34m\u001b[0m\u001b[0m\n\u001b[1;32m     74\u001b[0m \u001b[0;34m\u001b[0m\u001b[0m\n",
      "\u001b[0;32m~/torchenv/lib/python3.6/site-packages/requests/api.py\u001b[0m in \u001b[0;36mrequest\u001b[0;34m(method, url, **kwargs)\u001b[0m\n\u001b[1;32m     56\u001b[0m     \u001b[0;31m# cases, and look like a memory leak in others.\u001b[0m\u001b[0;34m\u001b[0m\u001b[0;34m\u001b[0m\u001b[0m\n\u001b[1;32m     57\u001b[0m     \u001b[0;32mwith\u001b[0m \u001b[0msessions\u001b[0m\u001b[0;34m.\u001b[0m\u001b[0mSession\u001b[0m\u001b[0;34m(\u001b[0m\u001b[0;34m)\u001b[0m \u001b[0;32mas\u001b[0m \u001b[0msession\u001b[0m\u001b[0;34m:\u001b[0m\u001b[0;34m\u001b[0m\u001b[0m\n\u001b[0;32m---> 58\u001b[0;31m         \u001b[0;32mreturn\u001b[0m \u001b[0msession\u001b[0m\u001b[0;34m.\u001b[0m\u001b[0mrequest\u001b[0m\u001b[0;34m(\u001b[0m\u001b[0mmethod\u001b[0m\u001b[0;34m=\u001b[0m\u001b[0mmethod\u001b[0m\u001b[0;34m,\u001b[0m \u001b[0murl\u001b[0m\u001b[0;34m=\u001b[0m\u001b[0murl\u001b[0m\u001b[0;34m,\u001b[0m \u001b[0;34m**\u001b[0m\u001b[0mkwargs\u001b[0m\u001b[0;34m)\u001b[0m\u001b[0;34m\u001b[0m\u001b[0m\n\u001b[0m\u001b[1;32m     59\u001b[0m \u001b[0;34m\u001b[0m\u001b[0m\n\u001b[1;32m     60\u001b[0m \u001b[0;34m\u001b[0m\u001b[0m\n",
      "\u001b[0;32m~/torchenv/lib/python3.6/site-packages/requests/sessions.py\u001b[0m in \u001b[0;36mrequest\u001b[0;34m(self, method, url, params, data, headers, cookies, files, auth, timeout, allow_redirects, proxies, hooks, stream, verify, cert, json)\u001b[0m\n\u001b[1;32m    506\u001b[0m         }\n\u001b[1;32m    507\u001b[0m         \u001b[0msend_kwargs\u001b[0m\u001b[0;34m.\u001b[0m\u001b[0mupdate\u001b[0m\u001b[0;34m(\u001b[0m\u001b[0msettings\u001b[0m\u001b[0;34m)\u001b[0m\u001b[0;34m\u001b[0m\u001b[0m\n\u001b[0;32m--> 508\u001b[0;31m         \u001b[0mresp\u001b[0m \u001b[0;34m=\u001b[0m \u001b[0mself\u001b[0m\u001b[0;34m.\u001b[0m\u001b[0msend\u001b[0m\u001b[0;34m(\u001b[0m\u001b[0mprep\u001b[0m\u001b[0;34m,\u001b[0m \u001b[0;34m**\u001b[0m\u001b[0msend_kwargs\u001b[0m\u001b[0;34m)\u001b[0m\u001b[0;34m\u001b[0m\u001b[0m\n\u001b[0m\u001b[1;32m    509\u001b[0m \u001b[0;34m\u001b[0m\u001b[0m\n\u001b[1;32m    510\u001b[0m         \u001b[0;32mreturn\u001b[0m \u001b[0mresp\u001b[0m\u001b[0;34m\u001b[0m\u001b[0m\n",
      "\u001b[0;32m~/torchenv/lib/python3.6/site-packages/requests/sessions.py\u001b[0m in \u001b[0;36msend\u001b[0;34m(self, request, **kwargs)\u001b[0m\n\u001b[1;32m    616\u001b[0m \u001b[0;34m\u001b[0m\u001b[0m\n\u001b[1;32m    617\u001b[0m         \u001b[0;31m# Send the request\u001b[0m\u001b[0;34m\u001b[0m\u001b[0;34m\u001b[0m\u001b[0m\n\u001b[0;32m--> 618\u001b[0;31m         \u001b[0mr\u001b[0m \u001b[0;34m=\u001b[0m \u001b[0madapter\u001b[0m\u001b[0;34m.\u001b[0m\u001b[0msend\u001b[0m\u001b[0;34m(\u001b[0m\u001b[0mrequest\u001b[0m\u001b[0;34m,\u001b[0m \u001b[0;34m**\u001b[0m\u001b[0mkwargs\u001b[0m\u001b[0;34m)\u001b[0m\u001b[0;34m\u001b[0m\u001b[0m\n\u001b[0m\u001b[1;32m    619\u001b[0m \u001b[0;34m\u001b[0m\u001b[0m\n\u001b[1;32m    620\u001b[0m         \u001b[0;31m# Total elapsed time of the request (approximately)\u001b[0m\u001b[0;34m\u001b[0m\u001b[0;34m\u001b[0m\u001b[0m\n",
      "\u001b[0;32m~/torchenv/lib/python3.6/site-packages/requests/adapters.py\u001b[0m in \u001b[0;36msend\u001b[0;34m(self, request, stream, timeout, verify, cert, proxies)\u001b[0m\n\u001b[1;32m    438\u001b[0m                     \u001b[0mdecode_content\u001b[0m\u001b[0;34m=\u001b[0m\u001b[0;32mFalse\u001b[0m\u001b[0;34m,\u001b[0m\u001b[0;34m\u001b[0m\u001b[0m\n\u001b[1;32m    439\u001b[0m                     \u001b[0mretries\u001b[0m\u001b[0;34m=\u001b[0m\u001b[0mself\u001b[0m\u001b[0;34m.\u001b[0m\u001b[0mmax_retries\u001b[0m\u001b[0;34m,\u001b[0m\u001b[0;34m\u001b[0m\u001b[0m\n\u001b[0;32m--> 440\u001b[0;31m                     \u001b[0mtimeout\u001b[0m\u001b[0;34m=\u001b[0m\u001b[0mtimeout\u001b[0m\u001b[0;34m\u001b[0m\u001b[0m\n\u001b[0m\u001b[1;32m    441\u001b[0m                 )\n\u001b[1;32m    442\u001b[0m \u001b[0;34m\u001b[0m\u001b[0m\n",
      "\u001b[0;32m~/torchenv/lib/python3.6/site-packages/urllib3/connectionpool.py\u001b[0m in \u001b[0;36murlopen\u001b[0;34m(self, method, url, body, headers, retries, redirect, assert_same_host, timeout, pool_timeout, release_conn, chunked, body_pos, **response_kw)\u001b[0m\n\u001b[1;32m    599\u001b[0m                                                   \u001b[0mtimeout\u001b[0m\u001b[0;34m=\u001b[0m\u001b[0mtimeout_obj\u001b[0m\u001b[0;34m,\u001b[0m\u001b[0;34m\u001b[0m\u001b[0m\n\u001b[1;32m    600\u001b[0m                                                   \u001b[0mbody\u001b[0m\u001b[0;34m=\u001b[0m\u001b[0mbody\u001b[0m\u001b[0;34m,\u001b[0m \u001b[0mheaders\u001b[0m\u001b[0;34m=\u001b[0m\u001b[0mheaders\u001b[0m\u001b[0;34m,\u001b[0m\u001b[0;34m\u001b[0m\u001b[0m\n\u001b[0;32m--> 601\u001b[0;31m                                                   chunked=chunked)\n\u001b[0m\u001b[1;32m    602\u001b[0m \u001b[0;34m\u001b[0m\u001b[0m\n\u001b[1;32m    603\u001b[0m             \u001b[0;31m# If we're going to release the connection in ``finally:``, then\u001b[0m\u001b[0;34m\u001b[0m\u001b[0;34m\u001b[0m\u001b[0m\n",
      "\u001b[0;32m~/torchenv/lib/python3.6/site-packages/urllib3/connectionpool.py\u001b[0m in \u001b[0;36m_make_request\u001b[0;34m(self, conn, method, url, timeout, chunked, **httplib_request_kw)\u001b[0m\n\u001b[1;32m    381\u001b[0m             \u001b[0;32mexcept\u001b[0m \u001b[0mTypeError\u001b[0m\u001b[0;34m:\u001b[0m  \u001b[0;31m# Python 2.6 and older, Python 3\u001b[0m\u001b[0;34m\u001b[0m\u001b[0m\n\u001b[1;32m    382\u001b[0m                 \u001b[0;32mtry\u001b[0m\u001b[0;34m:\u001b[0m\u001b[0;34m\u001b[0m\u001b[0m\n\u001b[0;32m--> 383\u001b[0;31m                     \u001b[0mhttplib_response\u001b[0m \u001b[0;34m=\u001b[0m \u001b[0mconn\u001b[0m\u001b[0;34m.\u001b[0m\u001b[0mgetresponse\u001b[0m\u001b[0;34m(\u001b[0m\u001b[0;34m)\u001b[0m\u001b[0;34m\u001b[0m\u001b[0m\n\u001b[0m\u001b[1;32m    384\u001b[0m                 \u001b[0;32mexcept\u001b[0m \u001b[0mException\u001b[0m \u001b[0;32mas\u001b[0m \u001b[0me\u001b[0m\u001b[0;34m:\u001b[0m\u001b[0;34m\u001b[0m\u001b[0m\n\u001b[1;32m    385\u001b[0m                     \u001b[0;31m# Remove the TypeError from the exception chain in Python 3;\u001b[0m\u001b[0;34m\u001b[0m\u001b[0;34m\u001b[0m\u001b[0m\n",
      "\u001b[0;32m/usr/local/Cellar/python3/3.6.4_2/Frameworks/Python.framework/Versions/3.6/lib/python3.6/http/client.py\u001b[0m in \u001b[0;36mgetresponse\u001b[0;34m(self)\u001b[0m\n\u001b[1;32m   1329\u001b[0m         \u001b[0;32mtry\u001b[0m\u001b[0;34m:\u001b[0m\u001b[0;34m\u001b[0m\u001b[0m\n\u001b[1;32m   1330\u001b[0m             \u001b[0;32mtry\u001b[0m\u001b[0;34m:\u001b[0m\u001b[0;34m\u001b[0m\u001b[0m\n\u001b[0;32m-> 1331\u001b[0;31m                 \u001b[0mresponse\u001b[0m\u001b[0;34m.\u001b[0m\u001b[0mbegin\u001b[0m\u001b[0;34m(\u001b[0m\u001b[0;34m)\u001b[0m\u001b[0;34m\u001b[0m\u001b[0m\n\u001b[0m\u001b[1;32m   1332\u001b[0m             \u001b[0;32mexcept\u001b[0m \u001b[0mConnectionError\u001b[0m\u001b[0;34m:\u001b[0m\u001b[0;34m\u001b[0m\u001b[0m\n\u001b[1;32m   1333\u001b[0m                 \u001b[0mself\u001b[0m\u001b[0;34m.\u001b[0m\u001b[0mclose\u001b[0m\u001b[0;34m(\u001b[0m\u001b[0;34m)\u001b[0m\u001b[0;34m\u001b[0m\u001b[0m\n",
      "\u001b[0;32m/usr/local/Cellar/python3/3.6.4_2/Frameworks/Python.framework/Versions/3.6/lib/python3.6/http/client.py\u001b[0m in \u001b[0;36mbegin\u001b[0;34m(self)\u001b[0m\n\u001b[1;32m    295\u001b[0m         \u001b[0;31m# read until we get a non-100 response\u001b[0m\u001b[0;34m\u001b[0m\u001b[0;34m\u001b[0m\u001b[0m\n\u001b[1;32m    296\u001b[0m         \u001b[0;32mwhile\u001b[0m \u001b[0;32mTrue\u001b[0m\u001b[0;34m:\u001b[0m\u001b[0;34m\u001b[0m\u001b[0m\n\u001b[0;32m--> 297\u001b[0;31m             \u001b[0mversion\u001b[0m\u001b[0;34m,\u001b[0m \u001b[0mstatus\u001b[0m\u001b[0;34m,\u001b[0m \u001b[0mreason\u001b[0m \u001b[0;34m=\u001b[0m \u001b[0mself\u001b[0m\u001b[0;34m.\u001b[0m\u001b[0m_read_status\u001b[0m\u001b[0;34m(\u001b[0m\u001b[0;34m)\u001b[0m\u001b[0;34m\u001b[0m\u001b[0m\n\u001b[0m\u001b[1;32m    298\u001b[0m             \u001b[0;32mif\u001b[0m \u001b[0mstatus\u001b[0m \u001b[0;34m!=\u001b[0m \u001b[0mCONTINUE\u001b[0m\u001b[0;34m:\u001b[0m\u001b[0;34m\u001b[0m\u001b[0m\n\u001b[1;32m    299\u001b[0m                 \u001b[0;32mbreak\u001b[0m\u001b[0;34m\u001b[0m\u001b[0m\n",
      "\u001b[0;32m/usr/local/Cellar/python3/3.6.4_2/Frameworks/Python.framework/Versions/3.6/lib/python3.6/http/client.py\u001b[0m in \u001b[0;36m_read_status\u001b[0;34m(self)\u001b[0m\n\u001b[1;32m    256\u001b[0m \u001b[0;34m\u001b[0m\u001b[0m\n\u001b[1;32m    257\u001b[0m     \u001b[0;32mdef\u001b[0m \u001b[0m_read_status\u001b[0m\u001b[0;34m(\u001b[0m\u001b[0mself\u001b[0m\u001b[0;34m)\u001b[0m\u001b[0;34m:\u001b[0m\u001b[0;34m\u001b[0m\u001b[0m\n\u001b[0;32m--> 258\u001b[0;31m         \u001b[0mline\u001b[0m \u001b[0;34m=\u001b[0m \u001b[0mstr\u001b[0m\u001b[0;34m(\u001b[0m\u001b[0mself\u001b[0m\u001b[0;34m.\u001b[0m\u001b[0mfp\u001b[0m\u001b[0;34m.\u001b[0m\u001b[0mreadline\u001b[0m\u001b[0;34m(\u001b[0m\u001b[0m_MAXLINE\u001b[0m \u001b[0;34m+\u001b[0m \u001b[0;36m1\u001b[0m\u001b[0;34m)\u001b[0m\u001b[0;34m,\u001b[0m \u001b[0;34m\"iso-8859-1\"\u001b[0m\u001b[0;34m)\u001b[0m\u001b[0;34m\u001b[0m\u001b[0m\n\u001b[0m\u001b[1;32m    259\u001b[0m         \u001b[0;32mif\u001b[0m \u001b[0mlen\u001b[0m\u001b[0;34m(\u001b[0m\u001b[0mline\u001b[0m\u001b[0;34m)\u001b[0m \u001b[0;34m>\u001b[0m \u001b[0m_MAXLINE\u001b[0m\u001b[0;34m:\u001b[0m\u001b[0;34m\u001b[0m\u001b[0m\n\u001b[1;32m    260\u001b[0m             \u001b[0;32mraise\u001b[0m \u001b[0mLineTooLong\u001b[0m\u001b[0;34m(\u001b[0m\u001b[0;34m\"status line\"\u001b[0m\u001b[0;34m)\u001b[0m\u001b[0;34m\u001b[0m\u001b[0m\n",
      "\u001b[0;32m/usr/local/Cellar/python3/3.6.4_2/Frameworks/Python.framework/Versions/3.6/lib/python3.6/socket.py\u001b[0m in \u001b[0;36mreadinto\u001b[0;34m(self, b)\u001b[0m\n\u001b[1;32m    584\u001b[0m         \u001b[0;32mwhile\u001b[0m \u001b[0;32mTrue\u001b[0m\u001b[0;34m:\u001b[0m\u001b[0;34m\u001b[0m\u001b[0m\n\u001b[1;32m    585\u001b[0m             \u001b[0;32mtry\u001b[0m\u001b[0;34m:\u001b[0m\u001b[0;34m\u001b[0m\u001b[0m\n\u001b[0;32m--> 586\u001b[0;31m                 \u001b[0;32mreturn\u001b[0m \u001b[0mself\u001b[0m\u001b[0;34m.\u001b[0m\u001b[0m_sock\u001b[0m\u001b[0;34m.\u001b[0m\u001b[0mrecv_into\u001b[0m\u001b[0;34m(\u001b[0m\u001b[0mb\u001b[0m\u001b[0;34m)\u001b[0m\u001b[0;34m\u001b[0m\u001b[0m\n\u001b[0m\u001b[1;32m    587\u001b[0m             \u001b[0;32mexcept\u001b[0m \u001b[0mtimeout\u001b[0m\u001b[0;34m:\u001b[0m\u001b[0;34m\u001b[0m\u001b[0m\n\u001b[1;32m    588\u001b[0m                 \u001b[0mself\u001b[0m\u001b[0;34m.\u001b[0m\u001b[0m_timeout_occurred\u001b[0m \u001b[0;34m=\u001b[0m \u001b[0;32mTrue\u001b[0m\u001b[0;34m\u001b[0m\u001b[0m\n",
      "\u001b[0;32m/usr/local/Cellar/python3/3.6.4_2/Frameworks/Python.framework/Versions/3.6/lib/python3.6/ssl.py\u001b[0m in \u001b[0;36mrecv_into\u001b[0;34m(self, buffer, nbytes, flags)\u001b[0m\n\u001b[1;32m   1007\u001b[0m                   \u001b[0;34m\"non-zero flags not allowed in calls to recv_into() on %s\"\u001b[0m \u001b[0;34m%\u001b[0m\u001b[0;34m\u001b[0m\u001b[0m\n\u001b[1;32m   1008\u001b[0m                   self.__class__)\n\u001b[0;32m-> 1009\u001b[0;31m             \u001b[0;32mreturn\u001b[0m \u001b[0mself\u001b[0m\u001b[0;34m.\u001b[0m\u001b[0mread\u001b[0m\u001b[0;34m(\u001b[0m\u001b[0mnbytes\u001b[0m\u001b[0;34m,\u001b[0m \u001b[0mbuffer\u001b[0m\u001b[0;34m)\u001b[0m\u001b[0;34m\u001b[0m\u001b[0m\n\u001b[0m\u001b[1;32m   1010\u001b[0m         \u001b[0;32melse\u001b[0m\u001b[0;34m:\u001b[0m\u001b[0;34m\u001b[0m\u001b[0m\n\u001b[1;32m   1011\u001b[0m             \u001b[0;32mreturn\u001b[0m \u001b[0msocket\u001b[0m\u001b[0;34m.\u001b[0m\u001b[0mrecv_into\u001b[0m\u001b[0;34m(\u001b[0m\u001b[0mself\u001b[0m\u001b[0;34m,\u001b[0m \u001b[0mbuffer\u001b[0m\u001b[0;34m,\u001b[0m \u001b[0mnbytes\u001b[0m\u001b[0;34m,\u001b[0m \u001b[0mflags\u001b[0m\u001b[0;34m)\u001b[0m\u001b[0;34m\u001b[0m\u001b[0m\n",
      "\u001b[0;32m/usr/local/Cellar/python3/3.6.4_2/Frameworks/Python.framework/Versions/3.6/lib/python3.6/ssl.py\u001b[0m in \u001b[0;36mread\u001b[0;34m(self, len, buffer)\u001b[0m\n\u001b[1;32m    869\u001b[0m             \u001b[0;32mraise\u001b[0m \u001b[0mValueError\u001b[0m\u001b[0;34m(\u001b[0m\u001b[0;34m\"Read on closed or unwrapped SSL socket.\"\u001b[0m\u001b[0;34m)\u001b[0m\u001b[0;34m\u001b[0m\u001b[0m\n\u001b[1;32m    870\u001b[0m         \u001b[0;32mtry\u001b[0m\u001b[0;34m:\u001b[0m\u001b[0;34m\u001b[0m\u001b[0m\n\u001b[0;32m--> 871\u001b[0;31m             \u001b[0;32mreturn\u001b[0m \u001b[0mself\u001b[0m\u001b[0;34m.\u001b[0m\u001b[0m_sslobj\u001b[0m\u001b[0;34m.\u001b[0m\u001b[0mread\u001b[0m\u001b[0;34m(\u001b[0m\u001b[0mlen\u001b[0m\u001b[0;34m,\u001b[0m \u001b[0mbuffer\u001b[0m\u001b[0;34m)\u001b[0m\u001b[0;34m\u001b[0m\u001b[0m\n\u001b[0m\u001b[1;32m    872\u001b[0m         \u001b[0;32mexcept\u001b[0m \u001b[0mSSLError\u001b[0m \u001b[0;32mas\u001b[0m \u001b[0mx\u001b[0m\u001b[0;34m:\u001b[0m\u001b[0;34m\u001b[0m\u001b[0m\n\u001b[1;32m    873\u001b[0m             \u001b[0;32mif\u001b[0m \u001b[0mx\u001b[0m\u001b[0;34m.\u001b[0m\u001b[0margs\u001b[0m\u001b[0;34m[\u001b[0m\u001b[0;36m0\u001b[0m\u001b[0;34m]\u001b[0m \u001b[0;34m==\u001b[0m \u001b[0mSSL_ERROR_EOF\u001b[0m \u001b[0;32mand\u001b[0m \u001b[0mself\u001b[0m\u001b[0;34m.\u001b[0m\u001b[0msuppress_ragged_eofs\u001b[0m\u001b[0;34m:\u001b[0m\u001b[0;34m\u001b[0m\u001b[0m\n",
      "\u001b[0;32m/usr/local/Cellar/python3/3.6.4_2/Frameworks/Python.framework/Versions/3.6/lib/python3.6/ssl.py\u001b[0m in \u001b[0;36mread\u001b[0;34m(self, len, buffer)\u001b[0m\n\u001b[1;32m    629\u001b[0m         \"\"\"\n\u001b[1;32m    630\u001b[0m         \u001b[0;32mif\u001b[0m \u001b[0mbuffer\u001b[0m \u001b[0;32mis\u001b[0m \u001b[0;32mnot\u001b[0m \u001b[0;32mNone\u001b[0m\u001b[0;34m:\u001b[0m\u001b[0;34m\u001b[0m\u001b[0m\n\u001b[0;32m--> 631\u001b[0;31m             \u001b[0mv\u001b[0m \u001b[0;34m=\u001b[0m \u001b[0mself\u001b[0m\u001b[0;34m.\u001b[0m\u001b[0m_sslobj\u001b[0m\u001b[0;34m.\u001b[0m\u001b[0mread\u001b[0m\u001b[0;34m(\u001b[0m\u001b[0mlen\u001b[0m\u001b[0;34m,\u001b[0m \u001b[0mbuffer\u001b[0m\u001b[0;34m)\u001b[0m\u001b[0;34m\u001b[0m\u001b[0m\n\u001b[0m\u001b[1;32m    632\u001b[0m         \u001b[0;32melse\u001b[0m\u001b[0;34m:\u001b[0m\u001b[0;34m\u001b[0m\u001b[0m\n\u001b[1;32m    633\u001b[0m             \u001b[0mv\u001b[0m \u001b[0;34m=\u001b[0m \u001b[0mself\u001b[0m\u001b[0;34m.\u001b[0m\u001b[0m_sslobj\u001b[0m\u001b[0;34m.\u001b[0m\u001b[0mread\u001b[0m\u001b[0;34m(\u001b[0m\u001b[0mlen\u001b[0m\u001b[0;34m)\u001b[0m\u001b[0;34m\u001b[0m\u001b[0m\n",
      "\u001b[0;31mKeyboardInterrupt\u001b[0m: "
     ]
    }
   ],
   "source": [
    "import csv, sqlite3\n",
    "\n",
    "con = sqlite3.connect(\"yelp.db\")\n",
    "cur = con.cursor()\n",
    "cur.execute(\"CREATE TABLE yelp (zipcode TEXT,name TEXT,rating REAL,review_count INT,price TEXT,transactions TEXT)\")\n",
    "\n",
    "with open(\"zipcode.txt\") as f: \n",
    "    zipcode = f.read().splitlines()\n",
    "for i, zc in enumerate(zipcode):\n",
    "    print(i)\n",
    "    print(zc)\n",
    "    res = get_data_from_yelp(zc)\n",
    "\n",
    "    cur.executemany(\"INSERT INTO yelp (zipcode,name,rating,review_count,price,transactions) VALUES (?, ?, ?, ?, ?, ?);\", res)\n",
    "    con.commit()\n",
    "con.close()\n"
   ]
  },
  {
   "cell_type": "code",
   "execution_count": 44,
   "metadata": {
    "collapsed": true
   },
   "outputs": [],
   "source": [
    "def get_data_from_yelp(zipcode):\n",
    "    data = all_restaurants(read_api_key('/Users/Lena/api/yelp_api_key.txt'), zipcode)\n",
    "    \n",
    "    res = []\n",
    "    for data_i in data:\n",
    "        if 'name' not in data_i \\\n",
    "        or 'rating' not in data_i \\\n",
    "        or 'review_count' not in data_i \\\n",
    "        or 'price' not in data_i \\\n",
    "        or 'transactions' not in data_i:\n",
    "            continue\n",
    "\n",
    "        cur_list = [zipcode, data_i['name'], data_i['rating'], data_i['review_count'], data_i['price'], str(data_i['transactions'])]\n",
    "#         print(cur_list)\n",
    "        res.append(cur_list)\n",
    "    print(\"final length is: \", len(res))\n",
    "    return res"
   ]
  },
  {
   "cell_type": "markdown",
   "metadata": {},
   "source": [
    "---"
   ]
  },
  {
   "cell_type": "markdown",
   "metadata": {},
   "source": [
    "### Exclude ones that the number of returns with # of total income (N02650), # of salaries (N00200), # of business income (N00900), # of unemployment_compensation (N02300), # of pension (N01700) and # of capital_gain (N01000) are less than 200\n",
    "### Exclude ones that zipcode (zipcode) is 99999"
   ]
  },
  {
   "cell_type": "code",
   "execution_count": 80,
   "metadata": {
    "collapsed": true
   },
   "outputs": [],
   "source": [
    "def preprocess_income_data(filename):\n",
    "    threshold = 2500\n",
    "    dic = {'zip_code': [], 'total_income':[], 'salary':[], 'business_income':[], 'unemployment_compensation':[], 'pension':[], 'capital_gain':[]}\n",
    "    dic_res = {'zip_code': [], 'total_income':[], 'salary':[], 'business_income':[], 'unemployment_compensation':[], 'pension':[], 'capital_gain':[]}\n",
    "    with open(filename, encoding = 'utf-8') as csvfile:\n",
    "        reader = csv.DictReader(csvfile)\n",
    "        for row in reader:\n",
    "            if row['zipcode'] == '99999' or row['zipcode'] == '0':\n",
    "                continue\n",
    "            if len(dic['zip_code']) == 0 or row['zipcode'] != dic['zip_code'][-1]:\n",
    "                if len(dic['zip_code']) != 0 and (dic['total_income'][-1] < threshold or dic['salary'][-1] < threshold or dic['business_income'][-1] < threshold or dic['unemployment_compensation'][-1] < threshold or dic['pension'][-1] < threshold or dic['capital_gain'][-1] < threshold):\n",
    "                    if int(dic['zip_code'][-1]) == 6010:\n",
    "                        print(dic['total_income'][-1])\n",
    "                        print(dic['salary'][-1])\n",
    "                        print(dic['business_income'][-1])\n",
    "                        print(dic['unemployment_compensation'][-1])\n",
    "                        print(dic['pension'][-1])\n",
    "                        print(dic['capital_gain'][-1])\n",
    "                    dic['zip_code'][-1] = row['zipcode']\n",
    "                    dic['total_income'][-1] = int(row['N02650'])\n",
    "                    dic['salary'][-1] = int(row['N00200'])\n",
    "                    dic['business_income'][-1] = int(row['N00900'])\n",
    "                    dic['unemployment_compensation'][-1] = int(row['N02300'])\n",
    "                    dic['pension'][-1] = int(row['N01700'])\n",
    "                    dic['capital_gain'][-1] = int(row['N01000'])\n",
    "                    dic_res['zip_code'][-1] = row['zipcode']\n",
    "                    dic_res['total_income'][-1] = int(row['A02650'])\n",
    "                    dic_res['salary'][-1] = int(row['A00200'])\n",
    "                    dic_res['business_income'][-1] = int(row['A00900'])\n",
    "                    dic_res['unemployment_compensation'][-1] = int(row['A02300'])\n",
    "                    dic_res['pension'][-1] = int(row['A01700'])\n",
    "                    dic_res['capital_gain'][-1] = int(row['A01000'])\n",
    "                else:\n",
    "                    dic['zip_code'].append(row['zipcode'])\n",
    "                    dic['total_income'].append(int(row['N02650']))\n",
    "                    dic['salary'].append(int(row['N00200']))\n",
    "                    dic['business_income'].append(int(row['N00900']))\n",
    "                    dic['unemployment_compensation'].append(int(row['N02300']))\n",
    "                    dic['pension'].append(int(row['N01700']))\n",
    "                    dic['capital_gain'].append(int(row['N01000']))\n",
    "                    dic_res['zip_code'].append(row['zipcode'])\n",
    "                    dic_res['total_income'].append(int(row['A02650']))\n",
    "                    dic_res['salary'].append(int(row['A00200']))\n",
    "                    dic_res['business_income'].append(int(row['A00900']))\n",
    "                    dic_res['unemployment_compensation'].append(int(row['A02300']))\n",
    "                    dic_res['pension'].append(int(row['A01700']))\n",
    "                    dic_res['capital_gain'].append(int(row['A01000']))\n",
    "            else:\n",
    "                dic['total_income'][-1] += int(row['N02650'])\n",
    "                dic['salary'][-1] += int(row['N00200'])\n",
    "                dic['business_income'][-1] += int(row['N00900'])\n",
    "                dic['unemployment_compensation'][-1] += int(row['N02300'])\n",
    "                dic['pension'][-1] += int(row['N01700'])\n",
    "                dic['capital_gain'][-1] += int(row['N01000'])\n",
    "                dic_res['total_income'][-1] += int(row['A02650'])\n",
    "                dic_res['salary'][-1] += int(row['A00200'])\n",
    "                dic_res['business_income'][-1] += int(row['A00900'])\n",
    "                dic_res['unemployment_compensation'][-1] += int(row['A02300'])\n",
    "                dic_res['pension'][-1] += int(row['A01700'])\n",
    "                dic_res['capital_gain'][-1] += int(row['A01000'])\n",
    "        if len(dic['zip_code']) != 0 and (dic['total_income'][-1] < threshold or dic['salary'][-1] < threshold or dic['business_income'][-1] < threshold or dic['unemployment_compensation'][-1] < threshold or dic['pension'][-1] < threshold or dic['capital_gain'][-1] < threshold):\n",
    "            dic['zip_code'] = dic['zip_code'][:-1]\n",
    "            dic['total_income'] = dic['total_income'][:-1]\n",
    "            dic['salary'] = dic['salary'][:-1]\n",
    "            dic['business_income'] = dic['business_income'][:-1]\n",
    "            dic['unemployment_compensation'] = dic['unemployment_compensation'][:-1]\n",
    "            dic['pension'] = dic['pension'][:-1]\n",
    "            dic['capital_gain'] = dic['capital_gain'][:-1]\n",
    "            dic_res['zip_code'] = dic_res['zip_code'][:-1]\n",
    "            dic_res['total_income'] = dic_res['total_income'][:-1]\n",
    "            dic_res['salary'] = dic_res['salary'][:-1]\n",
    "            dic_res['business_income'] = dic_res['business_income'][:-1]\n",
    "            dic_res['unemployment_compensation'] = dic_res['unemployment_compensation'][:-1]\n",
    "            dic_res['pension'] = dic_res['pension'][:-1]\n",
    "            dic_res['capital_gain'] = dic_res['capital_gain'][:-1]\n",
    "    return dic_res"
   ]
  },
  {
   "cell_type": "code",
   "execution_count": 81,
   "metadata": {},
   "outputs": [
    {
     "name": "stdout",
     "output_type": "stream",
     "text": [
      "['99507', '92336', '94112', '95076']\n",
      "4\n",
      "{'zip_code': ['99507', '92336', '94112', '95076'], 'total_income': [19570, 40660, 44190, 37210], 'salary': [17150, 36290, 37490, 32880], 'business_income': [2700, 7380, 8530, 4540], 'unemployment_compensation': [4700, 2620, 2600, 6120], 'pension': [2980, 4700, 5410, 4150], 'capital_gain': [2850, 2510, 5930, 3300]}\n"
     ]
    }
   ],
   "source": [
    "income_dict = preprocess_income_data('15zpallagi.csv')\n",
    "print(income_dict['zip_code'])\n",
    "print(len(income_dict['zip_code']))\n",
    "print(income_dict)\n",
    "\n",
    "# with open('preprocessed_income_data_2015.pickle', 'wb') as file:\n",
    "#     pickle.dump(income_dict, file, protocol=pickle.HIGHEST_PROTOCOL)\n",
    "\n",
    "# with open('preprocessed_income_data_2015.pickle', 'rb') as file:\n",
    "#     income_dict = pickle.load(file)"
   ]
  },
  {
   "cell_type": "code",
   "execution_count": 1,
   "metadata": {},
   "outputs": [
    {
     "name": "stdout",
     "output_type": "stream",
     "text": [
      "business.json          final.ipynb            read_dataset.py\r\n",
      "business_comma.json    irs.db                 zipcode200ge.txt\r\n",
      "filter_zipcodes.py     load_data_to_sqlite.py\r\n"
     ]
    }
   ],
   "source": [
    "!ls"
   ]
  },
  {
   "cell_type": "code",
   "execution_count": 3,
   "metadata": {
    "collapsed": true
   },
   "outputs": [],
   "source": [
    "import json\n",
    "with open(\"business_comma.json\") as f:\n",
    "    data = json.load(f)\n",
    "\n",
    "    "
   ]
  },
  {
   "cell_type": "code",
   "execution_count": 5,
   "metadata": {
    "collapsed": true
   },
   "outputs": [],
   "source": [
    "from collections import Counter\n",
    "\n",
    "post_codes = [dct['postal_code'] for dct in data]\n",
    "cnter = Counter(post_codes)"
   ]
  },
  {
   "cell_type": "code",
   "execution_count": 6,
   "metadata": {},
   "outputs": [
    {
     "data": {
      "text/plain": [
       "16005"
      ]
     },
     "execution_count": 6,
     "metadata": {},
     "output_type": "execute_result"
    }
   ],
   "source": [
    "len(cnter)"
   ]
  },
  {
   "cell_type": "code",
   "execution_count": 11,
   "metadata": {
    "collapsed": true
   },
   "outputs": [],
   "source": [
    "us_post_codes = [dct['postal_code'] for dct in data if len(dct['postal_code'])==5]\n",
    "us_cnter = Counter(us_post_codes)"
   ]
  },
  {
   "cell_type": "code",
   "execution_count": 12,
   "metadata": {},
   "outputs": [
    {
     "data": {
      "text/plain": [
       "971"
      ]
     },
     "execution_count": 12,
     "metadata": {},
     "output_type": "execute_result"
    }
   ],
   "source": [
    "len(us_cnter)"
   ]
  },
  {
   "cell_type": "code",
   "execution_count": 13,
   "metadata": {},
   "outputs": [
    {
     "name": "stdout",
     "output_type": "stream",
     "text": [
      "Counter({'89109': 2965, '85251': 2044, '85281': 1777, '85260': 1741, '89119': 1700, '89102': 1497, '89103': 1379, '85308': 1377, '85032': 1326, '85016': 1298, '89117': 1285, '85254': 1263, '89118': 1254, '85282': 1158, '89123': 1158, '89052': 1151, '89014': 1135, '89146': 1105, '89101': 1087, '85226': 1073, '89147': 1052, '85224': 970, '85018': 926, '89104': 912, '28277': 868, '85225': 836, '89121': 830, '85210': 797, '89128': 793, '85258': 771, '53703': 768, '85255': 728, '61820': 724, '85027': 724, '85234': 713, '85004': 713, '89074': 699, '28202': 695, '85206': 694, '85201': 687, '85204': 685, '85283': 683, '15222': 681, '85202': 681, '89148': 669, '85233': 661, '28203': 622, '85374': 615, '85284': 613, '89113': 604, '85295': 603, '85296': 599, '89130': 596, '85382': 592, '85022': 590, '28205': 587, '85301': 580, '85020': 575, '28078': 568, '89139': 568, '53704': 565, '89120': 565, '28105': 561, '85044': 554, '44113': 550, '15237': 547, '85034': 542, '28027': 535, '85014': 532, '89108': 530, '89015': 516, '44107': 509, '53719': 504, '85257': 496, '89135': 493, '89149': 491, '28273': 488, '89169': 482, '85345': 478, '85338': 476, '85286': 475, '28217': 472, '85013': 468, '89145': 465, '28262': 460, '89106': 452, '85205': 451, '28209': 448, '85008': 444, '70173': 441, '89030': 437, '89032': 437, '44060': 433, '85048': 427, '85021': 426, '28031': 424, '85051': 419, '85250': 416, '89183': 412, '85029': 410, '89012': 405, '44122': 404, '15203': 402, '85253': 402, '28211': 402, '85209': 398, '89129': 397, '85248': 397, '85003': 392, '15213': 388, '85050': 387, '44124': 382, '89107': 377, '85331': 376, '85012': 371, '85028': 370, '85381': 368, '15146': 366, '85297': 363, '85040': 362, '85015': 360, '44070': 358, '85203': 356, '85053': 355, '85006': 350, '44145': 349, '44130': 348, '28269': 347, '28208': 347, '53562': 337, '28204': 335, '28210': 331, '44114': 330, '89031': 330, '85323': 328, '85023': 327, '89131': 326, '89011': 320, '15205': 317, '15217': 316, '85268': 316, '85215': 316, '53711': 314, '28134': 310, '44118': 310, '28226': 309, '85085': 308, '89115': 308, '29708': 307, '15206': 307, '44136': 307, '85017': 302, '85306': 300, '85395': 296, '85392': 295, '28227': 291, '44256': 291, '85302': 290, '85009': 284, '89110': 284, '28216': 284, '85086': 274, '15201': 273, '89005': 267, '44094': 266, '85024': 261, '15090': 256, '15219': 256, '44240': 253, '85383': 251, '85042': 250, '15232': 248, '28079': 247, '44116': 244, '15317': 243, '53716': 243, '61801': 240, '89134': 240, '28213': 239, '85212': 239, '85249': 235, '61822': 235, '44129': 233, '53705': 232, '44115': 232, '85213': 230, '28025': 228, '85054': 227, '53590': 225, '61821': 224, '85207': 222, '89122': 220, '44106': 220, '28054': 220, '15212': 217, '15108': 214, '85305': 214, '53713': 213, '44224': 210, '85340': 209, '44111': 206, '53715': 202, '15216': 201, '44011': 201, '15224': 200, '85259': 199, '85310': 197, '85007': 197, '44102': 195, '15236': 194, '44139': 191, '28212': 189, '29715': 189, '44035': 182, '44221': 181, '53717': 181, '44134': 181, '44236': 180, '85379': 179, '85033': 179, '85351': 177, '85043': 174, '28104': 171, '70178': 169, '15017': 169, '85041': 168, '15120': 167, '15102': 166, '44131': 166, '44135': 165, '28270': 165, '15642': 165, '85037': 165, '85339': 164, '89144': 164, '89141': 160, '15238': 159, '15235': 157, '44109': 157, '89084': 157, '28206': 156, '44212': 156, '28173': 153, '44333': 144, '15241': 143, '15220': 143, '85035': 142, '28012': 141, '44121': 138, '29707': 137, '61802': 135, '44146': 135, '28056': 134, '85304': 134, '44133': 134, '53593': 132, '44144': 132, '85298': 131, '85353': 131, '44143': 129, '15202': 129, '44241': 129, '15228': 127, '15234': 127, '44126': 126, '44223': 124, '89081': 124, '44077': 122, '28207': 121, '44087': 121, '15136': 119, '89178': 118, '44095': 118, '85031': 117, '85019': 116, '15122': 115, '89002': 115, '70372': 114, '15106': 114, '28075': 112, '28083': 111, '53718': 111, '44147': 109, '85335': 108, '89136': 107, '44017': 106, '15044': 106, '15143': 106, '44022': 105, '89044': 105, '44012': 105, '85208': 104, '85388': 103, '53589': 103, '85378': 102, '44120': 101, '15226': 100, '15668': 99, '28214': 99, '15101': 99, '15068': 97, '44125': 95, '28215': 95, '15227': 95, '44067': 94, '73728': 93, '44202': 93, '44128': 92, '70174': 92, '15221': 92, '44039': 92, '44001': 91, '70176': 90, '89142': 89, '44056': 89, '28278': 89, '85266': 89, '85262': 87, '15218': 87, '28036': 86, '44023': 86, '85375': 85, '28052': 84, '53597': 84, '70563': 84, '44092': 83, '85377': 82, '71032': 82, '53714': 81, '85073': 81, '70771': 80, '15215': 79, '70182': 79, '61874': 77, '53575': 77, '70469': 77, '85303': 76, '70567': 74, '15210': 74, '71634': 74, '44142': 71, '44141': 71, '15239': 71, '70597': 69, '44024': 69, '71638': 69, '85001': 68, '85256': 68, '15275': 66, '15211': 65, '15229': 65, '71063': 65, '85307': 64, '70197': 61, '44278': 61, '70190': 59, '53558': 59, '15233': 58, '44103': 58, '44026': 57, '15209': 57, '70794': 55, '44138': 55, '89156': 55, '70180': 54, '89158': 54, '53572': 53, '85363': 51, '15137': 50, '53532': 50, '15147': 49, '44053': 48, '15223': 47, '70734': 47, '61866': 47, '70736': 47, '15139': 47, '44119': 47, '73760': 47, '28120': 46, '15231': 46, '89143': 46, '70193': 45, '71065': 45, '88901': 45, '71229': 44, '44123': 44, '71034': 44, '15116': 44, '19355': 42, '61853': 42, '85083': 42, '89166': 42, '15071': 41, '28081': 41, '28263': 41, '85143': 41, '29710': 40, '44286': 40, '44110': 40, '15207': 39, '71332': 39, '44137': 39, '70191': 39, '15132': 39, '70565': 38, '15131': 38, '70435': 37, '44140': 36, '15208': 36, '53527': 36, '89086': 36, '15003': 36, '70327': 35, '70199': 35, '44149': 34, '89138': 34, '44105': 34, '85373': 33, '71636': 32, '44052': 32, '61856': 30, '89191': 30, '44062': 30, '85140': 29, '44321': 29, '85236': 29, '70376': 29, '70806': 29, '70569': 29, '70499': 28, '70188': 28, '61953': 28, '44132': 28, '53706': 27, '70186': 27, '28034': 27, '44264': 26, '70839': 26, '89124': 25, '15025': 25, '89161': 25, '44054': 24, '44021': 24, '15037': 24, '15289': 23, '53528': 23, '85299': 23, '71254': 22, '15024': 22, '44028': 22, '44108': 22, '70599': 21, '44112': 21, '44178': 21, '89154': 21, '53774': 20, '44233': 20, '53726': 20, '28730': 20, '89162': 20, '15129': 19, '28164': 18, '15145': 18, '70374': 18, '15063': 18, '70619': 18, '44065': 18, '15243': 18, '85264': 18, '15126': 18, '70378': 17, '70629': 17, '89111': 17, '61873': 17, '28107': 17, '53508': 17, '70329': 17, '85355': 17, '85285': 17, '44262': 17, '53598': 16, '44117': 16, '85045': 15, '85280': 15, '89077': 15, '28280': 15, '44255': 15, '15085': 15, 'EH1 1': 14, '85387': 14, '15104': 14, '70195': 14, '70192': 14, '15144': 14, '15332': 13, '70184': 13, '44044': 13, '85252': 13, '85311': 12, 'EH8 9': 12, '71101': 12, '85318': 12, '70825': 12, '28032': 12, '15034': 11, '15214': 11, '44104': 11, '61803': 11, '44055': 11, '71394': 11, '85267': 10, '15148': 10, '89133': 10, '73730': 10, '44280': 10, '15123': 10, '71642': 10, '44101': 10, '89004': 10, '28098': 10, '85385': 10, '85080': 10, '71069': 10, '15056': 10, '44195': 10, '30966': 10, '85087': 9, '15636': 9, '19464': 9, '85142': 9, 'EH3 9': 9, '12919': 9, '44050': 9, 'B1636': 9, '06632': 9, '15057': 9, '71686': 9, '28244': 9, '73733': 9, '15321': 9, '89193': 9, 'EH8 8': 9, '71701': 8, '85244': 8, '15225': 8, '53515': 8, '85269': 8, '85545': 8, '85287': 8, '70439': 8, '85005': 8, '85246': 8, '15026': 8, '85068': 8, '85275': 8, '71144': 7, '89053': 7, 'EH2 2': 7, '73732': 7, '89009': 7, '15367': 7, '44040': 7, '45612': 7, '71334': 7, '89179': 7, '15204': 7, '15135': 7, '89105': 7, '15342': 6, '44127': 6, '85060': 6, '53521': 6, '89155': 6, '28246': 6, '28201': 6, '28285': 6, '28070': 6, '89019': 6, '15045': 6, '28288': 6, '12979': 6, '71640': 6, '73765': 6, '19362': 6, '15632': 6, '71067': 6, '28110': 6, '15112': 6, '28106': 6, '85312': 5, '85372': 5, '61859': 5, '44210': 5, '85277': 5, 'EH7 4': 5, '28223': 5, '28282': 5, '44072': 5, '53701': 5, '53744': 5, '15035': 5, '89054': 4, '85066': 4, '44253': 4, 'EH2 3': 4, '15142': 4, '89140': 4, '44234': 4, '15949': 4, '89199': 4, '70437': 4, '73770': 4, '28271': 4, '71696': 4, '61858': 4, '28266': 4, '85070': 4, '28299': 4, '89137': 4, '53702': 4, '85072': 4, '61849': 4, '89165': 4, '85216': 4, '28026': 4, '85211': 4, '85076': 4, '89013': 4, 'EH9 1': 4, '53529': 4, '85069': 4, '71282': 4, '85036': 4, '89085': 4, '28101': 4, '15140': 4, '89112': 4, '89180': 4, '17744': 4, '89152': 3, '85271': 3, 'EH6 8': 3, '85064': 3, '15030': 3, '85067': 3, '44242': 3, '46501': 3, '85078': 3, '73734': 3, '89116': 3, '89153': 3, '73269': 3, '61864': 3, '15133': 3, '85327': 3, '89151': 3, '60007': 3, '29716': 3, '85095': 3, '15272': 3, '28220': 3, '15110': 3, '85082': 3, '85326': 3, '15076': 3, '15091': 3, '85380': 3, '28281': 3, '85223': 3, '15637': 3, 'EH1 2': 3, '15067': 3, '85030': 3, '71409': 3, '53725': 3, '85214': 3, '85026': 3, '89006': 2, '70561': 2, 'EH2 4': 2, '61854': 2, '29204': 2, '61877': 2, '85120': 2, '28284': 2, '61826': 2, 'EH6 5': 2, '85324': 2, '28256': 2, '85038': 2, '89016': 2, '15018': 2, '85328': 2, '88276': 2, '90210': 2, '15261': 2, '89160': 2, '15276': 2, 'EH7 5': 2, '85242': 2, '85058': 2, '89132': 2, '05440': 2, '44313': 2, '71691': 2, '44096': 2, '15301': 2, '28037': 2, '88905': 2, '89114': 2, '85243': 2, '44046': 2, '89173': 2, '15250': 2, 'EH6 6': 2, 'EH1 3': 2, '15277': 2, '28247': 2, '89033': 2, '53911': 2, '86023': 2, '15260': 2, '28255': 2, 'EH7 6': 2, '15064': 2, '53792': 2, '28219': 2, '15031': 2, '15678': 2, '15049': 2, '85337': 2, '28234': 2, '85541': 2, '15088': 2, '44045': 2, '28228': 2, '28222': 2, '85002': 2, '28053': 2, '85329': 2, 'EH3 6': 2, 'EH6 7': 2, '78579': 2, 'EH2 1': 2, '15127': 2, '73773': 2, '44308': 1, '85370': 1, '90001': 1, '28802': 1, '91020': 1, '32258': 1, '28233': 1, '77056': 1, '71384': 1, '85106': 1, '71632': 1, '12923': 1, '71336': 1, '61824': 1, '28115': 1, '78409': 1, '39307': 1, '89003': 1, '88031': 1, '19401': 1, '85343': 1, '15055': 1, '77384': 1, '89434': 1, '85118': 1, '15688': 1, '61880': 1, '85052': 1, '15046': 1, '08054': 1, '85218': 1, '94066': 1, '85061': 1, '28501': 1, '80078': 1, '16051': 1, '70713': 1, '28224': 1, '10173': 1, '89039': 1, '45069': 1, '28803': 1, '71863': 1, '94565': 1, '89157': 1, '53885': 1, '60686': 1, '70761': 1, '85435': 1, '27278': 1, '44334': 1, '28074': 1, '44319': 1, '28123': 1, '70496': 1, '53517': 1, '89150': 1, '15015': 1, '12200': 1, '70272': 1, '30100': 1, '93013': 1, '02224': 1, '66606': 1, '85347': 1, '94901': 1, '89040': 1, '29031': 1, '85232': 1, '89018': 1, '88454': 1, '29732': 1, '30101': 1, '75095': 1, '89195': 1, '71665': 1, '15270': 1, '61816': 1, '72202': 1, '71386': 1, '85138': 1, '85396': 1, '89050': 1, '85705': 1, '15051': 1, '93449': 1, '53788': 1, '87701': 1, '85119': 1, '93612': 1, '61919': 1, '28625': 1, '85261': 1, 'L3R 1': 1, '71854': 1, '16930': 1, '28251': 1, '44211': 1, '28127': 1, '72041': 1, '63376': 1, '60191': 1, '53419': 1, '54842': 1, '53176': 1, '27536': 1, '61847': 1, '85821': 1, '35715': 1, '53707': 1, '85046': 1, '44320': 1, '44036': 1, '49808': 1, '48161': 1, '09544': 1, '15082': 1, 'EH9 2': 1, '61843': 1, '44237': 1, '15012': 1, '81058': 1, '15086': 1, '72649': 1, '22367': 1, '70172': 1, '28253': 1, '53783': 1, '23554': 1, '85935': 1, '70134': 1, '92585': 1, '27262': 1, '84295': 1, '15038': 1, '91205': 1, '15075': 1, '53965': 1, '71637': 1, '90720': 1, '85361': 1, '95308': 1, '85734': 1, '85237': 1, '73701': 1, '89410': 1, '44038': 1, '85831': 1, '15009': 1, '53518': 1, '18447': 1, '28231': 1, '16901': 1, '61844': 1, '85354': 1, '88113': 1, '85071': 1, '22827': 1, '53175': 1, '89127': 1, '05452': 1, '28658': 1, '89181': 1, '43714': 1, '15339': 1, '12958': 1, '41076': 1, '15290': 1, '44199': 1, '28274': 1, '06618': 1, '89184': 1, '92328': 1, '44258': 1, '53213': 1, '15134': 1, '61871': 1, '68451': 1, '28297': 1, '15240': 1, '92832': 1, '15437': 1, 'M6H 3': 1, '28451': 1, '85235': 1, '95224': 1, '23231': 1, '68161': 1, '61878': 1, '43336': 1, '85010': 1, '15363': 1, '70170': 1, '61956': 1, '86006': 1, '07141': 1, '82595': 1, '85394': 1, '95966': 1, '19301': 1, '27863': 1, '54558': 1, '98145': 1, '27377': 1, '28130': 1, '91950': 1, '85274': 1, '21211': 1, '85309': 1, '29203': 1, '86445': 1, '18922': 1, '61825': 1, '28720': 1, '89126': 1, '60031': 1, '61840': 1, 'EH8 7': 1, '28016': 1, '44222': 1, '85122': 1, '92008': 1, '15105': 1, '15282': 1})\n"
     ]
    }
   ],
   "source": [
    "print(us_cnter)"
   ]
  },
  {
   "cell_type": "code",
   "execution_count": null,
   "metadata": {
    "collapsed": true
   },
   "outputs": [],
   "source": []
  }
 ],
 "metadata": {
  "anaconda-cloud": {},
  "kernelspec": {
   "display_name": "Python 3",
   "language": "python",
   "name": "python3"
  },
  "language_info": {
   "codemirror_mode": {
    "name": "ipython",
    "version": 3
   },
   "file_extension": ".py",
   "mimetype": "text/x-python",
   "name": "python",
   "nbconvert_exporter": "python",
   "pygments_lexer": "ipython3",
   "version": "3.6.3"
  }
 },
 "nbformat": 4,
 "nbformat_minor": 1
}
